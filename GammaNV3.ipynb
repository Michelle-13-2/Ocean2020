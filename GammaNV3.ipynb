{
 "cells": [
  {
   "cell_type": "code",
   "execution_count": 1,
   "metadata": {},
   "outputs": [
    {
     "name": "stdout",
     "output_type": "stream",
     "text": [
      "Populating the interactive namespace from numpy and matplotlib\n"
     ]
    }
   ],
   "source": [
    "import math\n",
    "import numpy as np\n",
    "%pylab inline"
   ]
  },
  {
   "cell_type": "code",
   "execution_count": 2,
   "metadata": {
    "collapsed": true
   },
   "outputs": [],
   "source": [
    "#  gammaN      This function calculates  free ion coefficients for the following neutral\n",
    "#              solutes:\n",
    "#\n",
    "#              NH3,  B(OH)3, H3PO4, H2S, SO2, HF, CO2\n",
    "#                                 *******************************\n",
    "#\n",
    "#                   gN = gammaN(Tc,I,mT_cat,mT_an)\n",
    "#                           Tc = Temperature in degree celcius  \n",
    "#                            I = Ionic strength\n",
    "#                      mT_cat  =   Total concentration (molals) of major \n",
    "#                                  cations in seawater (Na, K, Mg, Ca, Sr)\n",
    "#                       mT_an  =   Total concentration (molals) of major \n",
    "#                                  anions in seawater  (Cl, SO4, CO3, HCO3, Br, F, B(OH)4)\n",
    "\n",
    "## --------------------------------------------------------------------------------------\n",
    "##  Assign values to global variables\n",
    "mjCaMax = 5 + 2         #In python array goes 0,1,2,3,4,5,6, so mjCaMax must go to 7 to include the 6th variable\n",
    "mnCaMax = 37\n",
    "CaMax = mjCaMax + mnCaMax\n",
    "\n",
    "mjAnMax = 7 + 1          #In python array goes 0,1,2,3,4,5,6,7,8 so mjCaMax must go to 8 to include the 7th variable\n",
    "mnAnMax = 19\n",
    "AnMax = mjAnMax + mnAnMax\n",
    "\n",
    "NeutMax = 7\n",
    "\n",
    "## ------------------------------------------------------------------------------\n",
    "\n",
    "def gammaNV3(Tc, I, mT_cat, mT_an):\n",
    "    \n",
    "    T = Tc + 273.15\n",
    "    veclengths=[size(Tc), size(I), size(len(mT_cat)), size(len(mT_an))]\n",
    "    maxr = max(veclengths)\n",
    "    \n",
    "    if len(unique(veclengths)) > 2:\n",
    "        print('*** INPUT ERROR: Input vectors must all be of same length, or of length 1. ***')\n",
    "    \n",
    "    def lamda(T, p):\n",
    "        P = p[:,0] + p[:,1]*T + p[:,2]*(T**2) + p[:,3]/T + p[:,4]*log(T)\n",
    "        return P\n",
    "\n",
    "    def zeta(T,q):\n",
    "        Q = np.zeros([2, 5])\n",
    "        for an in range(2):\n",
    "            for cat in range(5):\n",
    "                Q[an, cat] = q[0, an, cat] + q[1, an, cat]*T + q[2, an, cat]*(T**2) + q[3, an, cat]/T + q[4, an, cat]*log(T)\n",
    "        return Q\n",
    "            \n",
    "    ## --------------------------------------------------------------------------------------\n",
    "\n",
    "    ## LnGamma for Gamma \n",
    "    lng_N = np.zeros([maxr,NeutMax])\n",
    "    \n",
    "    ## NH3    --> [Clegg & Brimblecombe. 1989]\n",
    "    lng_N[:,0] = 2*(0.0175* mT_cat[0] + 0.0454* mT_cat[1] - 0.21* mT_cat[2] - 0.081* mT_cat[3] - 0.041* mT_cat[4]) + 2* (0.138* mT_an[1] + 0.174 * mT_an[2]) - (0.00134 * mT_cat[3]* mT_an[0])\n",
    "    \n",
    "    ## B(OH)3 \n",
    "    lng_N[:,1] = 2*(-0.097* mT_cat[0] - 0.14* mT_cat[1]) + 2* (0.091 * mT_an[0] +  0.018* mT_an[1]) + (0.046* mT_an[0]* mT_an[1]) \n",
    "    \n",
    "    ## H3PO4\n",
    "    lng_N[:,2] = 2*(0.075* mT_cat[0] + 0.075* mT_cat[2] - 0.07* mT_cat[1])    # H3PO4 Na from Hershey et al. 1989? and Mg = Na    % Silvester, Pitzer 1976\n",
    "    \n",
    "    ## H2S    --> [Hershey et al. 1998]\n",
    "    lng_N[:,3] = (0.1554*I) - (0.00806*(I**2))\n",
    "    \n",
    "    ## SO2 \n",
    "    lng_N[:,4] = 2*(0.0283* mT_cat[0] + 0.085* mT_cat[2])\n",
    "    \n",
    "    ## HF    \n",
    "    lng_N[:,5] = 2*0.011* mT_cat[0]\n",
    "    \n",
    "    # ****************************************************************************************\n",
    "    \n",
    "    ## CO2 \n",
    "    # lambdaNc: interaction between CO2 and major cations \n",
    "    \n",
    "    #for in = 1:maxr\n",
    "    \n",
    "    Tx = T\n",
    "    Nc = np.zeros([mjCaMax, 5])  # Na, K, Mg, Ca, Sr\n",
    "\n",
    "    Nc [0,:] = [-5496.38465, -3.326566, 0.0017532, 109399.341, 1047.021567]      # Na\n",
    "    Nc [1,:] = [2856.528099, 1.7670079, -0.0009487, -55954.1929, -546.074467]    # K\n",
    "    Nc [2,:] = [-479.362533, -0.541843, 0.00038812, 3589.474052, 104.3452732]    # Mg\n",
    "    Nc [3,:] = [-12774.6472, -8.101555, 0.00442472, 245541.5435, 2452.50972]     # Ca\n",
    "    # Nc (5,:) = [0,0,0,0,0] \n",
    "\n",
    "    lambdaNc = lamda(Tx, Nc)\n",
    "    \n",
    "    # ****************************************************************************************\n",
    "\n",
    "    # lambdaNa: interaction between CO2 and major anions.\n",
    "    Na = np.zeros([2,5])           # Cl, SO4\n",
    "\n",
    "    Na[0]= [1659.944942, 0.9964326, -0.00052122, -33159.6177, -315.827883]    # Cl\n",
    "    Na[1]= [2274.656591, 1.8270948, -0.00114272, -33927.7625, -457.015738]    # SO4\n",
    "\n",
    "    lambdaNa = lamda(Tx, Na)\n",
    "\n",
    "    # ****************************************************************************************\n",
    "\n",
    "    # ZetaCO2:  triplet interaction between CO2, major cations and major anions.\n",
    "    \n",
    "    param_zeta = zeros([5,2,5])     #[set, row, number in row]\n",
    "    param_zeta[0,0] = [-379.459185,-379.686097,-1342.60256,-166.06529,0]\n",
    "    param_zeta[0,1] = [67030.02482,-2907.03326,-7374.24392,0,0]      \n",
    "    param_zeta[1,0] = [-0.258005,-0.257891,-0.772286,-0.018002,0]    \n",
    "    param_zeta[1,1] = [37.930519,-2.860763,-4.608331,0,0]   \n",
    "    param_zeta[2,0] = [0.000147823,0.000147333,0.000391603,-0.0000247349,0]     \n",
    "    param_zeta[2,1] = [-0.0189473,0.001951086,0.002489207,0,0]     \n",
    "    param_zeta[3,0] = [6879.030871,6853.264129,27726.80974,5256.844332,0]\n",
    "    param_zeta[3,1] = [-1399082.37,30756.86749,143162.6076,0,0]\n",
    "    param_zeta[4,0] = [73.74511574,73.79977116,253.62319406,27.377452415,0]\n",
    "    param_zeta[4,1] = [-12630.27457,611.37560512,1412.302898,0,0]\n",
    "    #param_zeta(2,6,:) = [-804.121738,-0.470474,0.000240526,16334.38917,152.3838752]   # Cl & H\n",
    "    \n",
    "    ZetaCO2 = zeta(Tx, param_zeta)\n",
    "    \n",
    "    ## Calculating free activity coefficient of neutral solutes:\n",
    "\n",
    "    for cat in range(5):\n",
    "        lng_N[:,6] = lng_N[:,6] + 2*(mT_cat[cat]*lambdaNc[cat])\n",
    "\n",
    "    for an in range(2):\n",
    "        lng_N[:,6] = lng_N[:,6] + 2*(mT_an[an]*lambdaNa[an])\n",
    "\n",
    "    for an in range(2):\n",
    "        for cat in range(5):\n",
    "            lng_N[:,6] = lng_N[:,6]+ (mT_an[an]* mT_cat[cat]* ZetaCO2[an,cat]) \n",
    "\n",
    "    # gammaCO2gas = math.exp(1/(8.314462175*T*(0.10476 - 61.0102/T -660000/T/T/T -2.47E27/math.pow(T,12))));\n",
    "\n",
    "    ## LnGamma --> Gamma\n",
    "    gN = exp(lng_N)\n",
    "\n",
    "    return gN"
   ]
  },
  {
   "cell_type": "code",
   "execution_count": 3,
   "metadata": {},
   "outputs": [
    {
     "name": "stdout",
     "output_type": "stream",
     "text": [
      "[[ 1.00135665  1.00726213  1.07986777  1.11417281  1.03616092  1.01037069\n",
      "   1.13323512]]\n"
     ]
    }
   ],
   "source": [
    "gN = gammaNV3(25, 0.7228, [0.4689674, 0.0102077, 0.0528171, 0.0102821, 0.0000907], [0.5458696, 0.0282352, 0.00024694, 0.00179143, 0.0008421, 0.0000683, 0.0001008])\n",
    "print(gN)"
   ]
  },
  {
   "cell_type": "code",
   "execution_count": 74,
   "metadata": {
    "scrolled": true
   },
   "outputs": [
    {
     "name": "stdout",
     "output_type": "stream",
     "text": [
      "298.15\n",
      "299.15\n",
      "300.15\n"
     ]
    }
   ],
   "source": [
    "#Tc = [25,26,27]\n",
    "Td = np.array([25,26,27])\n",
    "T = Td + 273.15\n",
    "maxr = len(Tc)\n",
    "\n",
    "for i in range(maxr):\n",
    "    Tx = T[i]\n",
    "\n",
    "    print(Tx)"
   ]
  },
  {
   "cell_type": "code",
   "execution_count": 60,
   "metadata": {},
   "outputs": [
    {
     "ename": "TypeError",
     "evalue": "'int' object is not subscriptable",
     "output_type": "error",
     "traceback": [
      "\u001b[0;31m---------------------------------------------------------------------------\u001b[0m",
      "\u001b[0;31mTypeError\u001b[0m                                 Traceback (most recent call last)",
      "\u001b[0;32m<ipython-input-60-b17d260e3490>\u001b[0m in \u001b[0;36m<module>\u001b[0;34m()\u001b[0m\n\u001b[1;32m      2\u001b[0m \u001b[0;34m\u001b[0m\u001b[0m\n\u001b[1;32m      3\u001b[0m \u001b[0;32mfor\u001b[0m \u001b[0mi\u001b[0m \u001b[0;32min\u001b[0m \u001b[0mrange\u001b[0m\u001b[0;34m(\u001b[0m\u001b[0;36m1\u001b[0m\u001b[0;34m)\u001b[0m\u001b[0;34m:\u001b[0m\u001b[0;34m\u001b[0m\u001b[0m\n\u001b[0;32m----> 4\u001b[0;31m     \u001b[0mprint\u001b[0m\u001b[0;34m(\u001b[0m\u001b[0mk\u001b[0m\u001b[0;34m[\u001b[0m\u001b[0mi\u001b[0m\u001b[0;34m]\u001b[0m\u001b[0;34m)\u001b[0m\u001b[0;34m\u001b[0m\u001b[0m\n\u001b[0m",
      "\u001b[0;31mTypeError\u001b[0m: 'int' object is not subscriptable"
     ]
    }
   ],
   "source": [
    "k = 27\n",
    "\n",
    "for i in range(1):\n",
    "    print(k[i])"
   ]
  }
 ],
 "metadata": {
  "kernelspec": {
   "display_name": "Python 3",
   "language": "python",
   "name": "python3"
  },
  "language_info": {
   "codemirror_mode": {
    "name": "ipython",
    "version": 3
   },
   "file_extension": ".py",
   "mimetype": "text/x-python",
   "name": "python",
   "nbconvert_exporter": "python",
   "pygments_lexer": "ipython3",
   "version": "3.6.2"
  }
 },
 "nbformat": 4,
 "nbformat_minor": 2
}
