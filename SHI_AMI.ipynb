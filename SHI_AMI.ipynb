{
 "cells": [
  {
   "cell_type": "code",
   "execution_count": null,
   "metadata": {
    "collapsed": true
   },
   "outputs": [],
   "source": [
    "%run calccomp.ipynb"
   ]
  },
  {
   "cell_type": "code",
   "execution_count": null,
   "metadata": {
    "collapsed": true
   },
   "outputs": [],
   "source": [
    "%run gammaFV3.ipynb"
   ]
  },
  {
   "cell_type": "code",
   "execution_count": null,
   "metadata": {
    "collapsed": true
   },
   "outputs": [],
   "source": [
    "%run gammaNV3.ipynb"
   ]
  },
  {
   "cell_type": "code",
   "execution_count": null,
   "metadata": {
    "collapsed": true
   },
   "outputs": [],
   "source": [
    "%run gammaIP.ipynb"
   ]
  },
  {
   "cell_type": "code",
   "execution_count": null,
   "metadata": {
    "collapsed": true
   },
   "outputs": [],
   "source": [
    "%run Kthermo.ipynb"
   ]
  },
  {
   "cell_type": "code",
   "execution_count": null,
   "metadata": {
    "collapsed": true
   },
   "outputs": [],
   "source": [
    "%run Kcond.ipynb"
   ]
  },
  {
   "cell_type": "code",
   "execution_count": null,
   "metadata": {
    "collapsed": true
   },
   "outputs": [],
   "source": [
    "%run alphaV3.ipynb"
   ]
  },
  {
   "cell_type": "code",
   "execution_count": null,
   "metadata": {
    "collapsed": true
   },
   "outputs": [],
   "source": [
    "%run speciation.ipynb"
   ]
  },
  {
   "cell_type": "code",
   "execution_count": null,
   "metadata": {
    "collapsed": true
   },
   "outputs": [],
   "source": [
    "%run gammaTV3.ipynb"
   ]
  },
  {
   "cell_type": "code",
   "execution_count": null,
   "metadata": {
    "collapsed": true
   },
   "outputs": [],
   "source": [
    "# SHI_AMI      SHI_AMI calculates speciation for a number of elements in seawater \n",
    "#              given sufficient input:\n",
    "#                \n",
    "#              \n",
    "#              INPUT:\n",
    "#              PAR1  (some unit) : scalar or vector of size n x 1\n",
    "#              PAR2  (some unit) : scalar or vector of size n x 1\n",
    "#              PAR1TYPE       () : scalar or vector of size n x 1(*)\n",
    "#              PAR2TYPE       () : scalar or vector of size n x 1(*)\n",
    "#              () : scalar or vector of size n x 1\n",
    "#              Tc      (degr. C) : scalar or vector of size n x 1\n",
    "#              P         ( dbar) : scalar or vector of size n x 1\n",
    "#              SIL    (umol/kgSW): scalar or vector of size n x 1\n",
    "#              PO4    (umol/kgSW): scalar or vector of size n x 1\n",
    "#              pHSCALE           : scalar or vector of size n x 1(**)\n",
    "#\n",
    "#             (*) Each element must be an integer, \n",
    "#              indicating that PAR1 (or PAR2) is of type: \n",
    "#              1 = Total Alkalinity\n",
    "#              2 = DIC\n",
    "#              3 = pH\n",
    "#              4 = pCO2\n",
    "#              5 = fCO2\n",
    "# \n",
    "#             (**) Each element must be an integer, \n",
    "#              indicating that the pH-input (PAR1 or PAR2, if any) is at:\n",
    "#              1 = Total scale\n",
    "#              2 = Seawater scale\n",
    "#              3 = Free scale\n",
    "#              4 = NBS scale\n",
    "#\n",
    "##              NUMBERING SYSTEM\n",
    "#               Major Cations    \n",
    "#               Na = 0;       K = 1;     Mg = 2;       Ca = 3;      Sr = 4\n",
    "#\n",
    "#               ************************************************************************************\n",
    "#\n",
    "#               Minor Cations\n",
    "#                H = 5;      Li = 6;      Rb = 7;       Cs = 8;      NH4 = 9;    Ba = 10;   Mn = 11;    \n",
    "#           Fe(II)= 12;     Co = 13;     Ni = 14;   Cu(II)= 15;      Zn = 16;   UO2 = 17;   Be = 18;    \n",
    "#              Cd = 19;  Pb(II)= 20;   Cu(I)= 21;      La = 22;      Ce = 23;    Pr = 24;   Nd = 25;      \n",
    "#              Pm = 26;     Sm = 27;     Eu = 28;      Gd = 29;      Tb = 30;    Dy = 31;   Ho = 32;      \n",
    "#              Er = 33;     Tm = 34;     Yb = 35;      Lu = 36;       Y = 37;    Al = 38;   Ga = 39;      \n",
    "#              In = 40; Fe(III)= 41;\n",
    "#\n",
    "#               ************************************************************************************\n",
    "#\n",
    "#               Major Anions   \n",
    "#               Cl = 0;     SO4 = 1;     CO3 = 2;     HCO3 = 3;    Br = 4;     F = 5   B(OH)4 = 6\n",
    "# \n",
    "#               ************************************************************************************\n",
    "#\n",
    "#              Minor Anions\n",
    "#                  OH = 7;   HSO4 = 8;     HS = 9;      I = 10;    ClO3  = 11;  ClO4 = 12;    BrO3 = 13;     \n",
    "#                CNS = 14;   NO2 = 15;   NO3 = 16;  H2PO4 = 17;     HPO4 = 18;   PO4 = 19;  H2AsO4 = 20;  \n",
    "#              HAsO4 = 21;  AsO4 = 22;  HSO3 = 23;    SO3 = 24;  Acetate = 25;\n",
    "#          \n",
    "#               ************************************************************************************\n",
    "#   \n",
    "\n",
    "##  Assign values to global variables\n",
    "mjCaMax = 5\n",
    "mnCaMax = 37\n",
    "  CaMax = mjCaMax + mnCaMax\n",
    "\n",
    "mjAnMax = 7\n",
    "mnAnMax = 19 \n",
    "  AnMax = mjAnMax + mnAnMax\n",
    "\n",
    "NeutMax = 7\n",
    "\n",
    "def SHI_AMI(S, Tc, P, PAR1, PAR2, PAR1TYPE, PAR2TYPE, SIL, PO4, pHSCALE):\n",
    "    \n",
    "## Intiating Speciation calculation:\n",
    "# INPUT: S, Tc, P, PAR1, PAR2, PAR1TYPE, PAR2TYPE, SIL, PO4, pHSCALE\n",
    "## --------------------------------------------------------------------------------------------\n",
    "\n",
    "## 1) Ionic Strength and composition of background electrolyte \n",
    "    I, mT_cat, mT_an, OH = calccomp (S, Tc, P, PAR1, PAR2, PAR1TYPE, PAR2TYPE, SIL, PO4, pHSCALE) \n",
    "\n",
    "## --------------------------------------------------------------------------------------------\n",
    "\n",
    "## 2) Free Activity coefficients [gammaV3.m; gammaNV3.m]\n",
    "# Like Millero Model, we calculate gamma using Pitzer equations for :\n",
    "#\n",
    "# Major Cations                  Minor Cations \n",
    "# Na, K, Mg, Ca, Sr              H, Li, Rb, Cs, NH4, Ba, Mn, Fe(II), Co, Ni, Cu(II), Zn, UO2,\n",
    "#                                Be, Cd, Pb(II), Cu(I)\n",
    "#                               \n",
    "#                                REE\n",
    "#                                La, Ce, Pr, Nd, Pm, Sm, Eu, Gd, Tb, Dy, Ho, Er, Tm, Yb, Lu, Y\n",
    "#                                \n",
    "#                                Trivalent\n",
    "#                                Al, Ga, In, Fe(III)\n",
    "#\n",
    "#\n",
    "# Major Anions                   Minor Anion\n",
    "# Cl, SO4, CO3, HCO3             OH, HSO4, HS,  I, ClO3, ClO4, BrO3, CNS, NO2, NO3, H2PO4, HPO4,\n",
    "# Br, F, B(OH)4                  PO4, H2AsO4, HAsO4, AsO4, HSO3, SO3, Acetate\n",
    "#\n",
    "# Neutral:\n",
    "# NH3, B(OH)3, H3PO4, H2S, SO2, HF, CO2\n",
    "#\n",
    "# Charged ion pairs whose pitzer parameters are available\n",
    "# MgOH*  MgF*  CaF*\n",
    "#\n",
    "# Neutral ion pairs and charged ion pairs for which no pitzer data is available: \n",
    "# For a number of ion pairs, we have assigned assumed activity coefficients.\n",
    "# For detailed description of assumptions made, see \"gammaIP.m\" or type \"help gammaIP\" \n",
    "# in the command window.\n",
    "#\n",
    "# Pitzer parameters that are needed  are generated by (and can be edited in) CreatePitzerV3.m\n",
    "# ****************************************************************************************************************************\n",
    "    gF_cat, gF_an, gIP1, gdivIP, gtrivIP = gammaFV3(Tc, I, mT_cat,mT_an)\n",
    "    gN = gammaNV3(Tc,I,mT_cat,mT_an)\n",
    "    gmjIP, mnCatIP, gdivIP, gtrivIP = gammaIP(Tc,I, mT_cat, mT_an)\n",
    "# ****************************************************************************************************************************\n",
    "\n",
    "## --------------------------------------------------------------------------------------------------------------\n",
    "## 3) Thermodynamic/conditional association constants\n",
    "# Equilbrium constants used in the chemical equilibria can be:\n",
    "#\n",
    "# Thermodynamic constants K:                - expressed in terms of activity \n",
    "#                                           - Functions of temperature and pressure only. \n",
    "#\n",
    "# Stoichiometric/conditional constants K?:  - expressed in terms of concentrations \n",
    "#                                           - functions of temperature, pressure and \n",
    "#                                             solution composition. \n",
    "#\n",
    "# \"This dependence on solution compositionvia the activity coefficients limits the \n",
    "# practical value  of stoichiometric constants.  Values of the stoichiometric constant \n",
    "# K* measured in  normal seawater can be used only for solutions of seawater composition \n",
    "# and for the salinity, or salinities, for which K* has been determined.  Any variations \n",
    "# from seawater compositionsuch as might be found in enclosed seas ,pore waters, \n",
    "# and some estuarieswill lead to changes  in the value of ... activity coefficients \n",
    "# in the  equation ... and therefore a change in K*\" (TURNER ET AL 2016)\n",
    "#\n",
    "# In SHIAMI: \n",
    "# 1) Thermodynamic log Ks are compiled from various sources. SEE \"Kthermo.m\" and \n",
    "#    \"thermodatabase1.m\"\n",
    "# \n",
    "# 2) Desired stoichiometric constants are calculated from thermodynamic log Ks using the \n",
    "#    model calculated free activity coefficients.\n",
    "# \n",
    "# ****************************************************************************************************************************\n",
    "    mjKthermo, mnCat_Kthermo, divKthermo, trivKthermo, mnAn_Kthermo = Kthermo(Tc)\n",
    "    mjKcond, mnCat_Kcond, divKcond, trivKcond  = Kcond(Tc, I, mT_cat,mT_an)\n",
    "# ****************************************************************************************************************************\n",
    "\n",
    "## ###########################################################################################################\n",
    "## CALCULATING SPECIATION: \n",
    "# Using the parameters listed above, one can determine the distribution of elements \n",
    "# in an aqueous solution  via the following means:\n",
    "\n",
    "## --------------------------------------------------------------------------------------------------------------\n",
    "## 1) Calculating \"alpha\" or the fraction of free ions in a solution of fixed composition [alphaV3.m] \n",
    "# To calculate the percentage/fraction of free cation or anion in the solution, we\n",
    "# use the \"ion association/ion-pairing model. We solve a series of linear\n",
    "# equations through an iterative method which is initiated by setting the\n",
    "# alpha_cat = 1 i.e [M]F = [M]T. \n",
    "\n",
    "# ****************************************************************************************************************************\n",
    "    alpha_cat, alpha_an, mF_an, mF_cat, itera = alphasV3(Tc, I, mT_cat,mT_an,OH)\n",
    "# ****************************************************************************************************************************\n",
    "\n",
    "## --------------------------------------------------------------------------------------------------------------\n",
    "## 2) Calculating speciation\n",
    "# Using alpha determined above, it is possible to determine the speciation:\n",
    "# ****************************************************************************************************************************\n",
    "    mjcat_spec, mjcat_FREE, mjan_spec, mjan_FREE, mncat_spec, mncat_FREE, div_spec, div_FREE, triv_spec, triv_FREE = speciation (Tc, I, mT_cat, mT_an, OH)\n",
    "# ****************************************************************************************************************************\n",
    "\n",
    "## ###########################################################################################################\n",
    "## Correcting activity coefficients for complex formation: \n",
    "# From Hain et al 2015:\n",
    "# 'There are two reasons why the activity of a given chemical species (e.g., CO32-) is different from its\n",
    "# stoichiometric concentration: \n",
    "\n",
    "# (1) The electrostatic ion-ion interactions in electrolyte solutions typically reduce the activity \n",
    "#     of a given species below its free concentration Debye and Hückel, 1923; Pitzer, 1991). \n",
    "#     [This is accounted for by free activity coeefficients]\n",
    "\n",
    "# (2) Some ions form strong bonds with each other (i.e., complex formation or ion pairing;\n",
    "#     Garrels and Thompson, 1962) such that only a fraction of that species can be said to be free'\n",
    "#     [This is accounted for by the desired total activity coeefficients.]\n",
    "\n",
    "## Calculating Total Activity coefficents [gammaTV3.m]\n",
    "# ai = mf * yf               (1)\n",
    "# mf = mT * alpha            (2)\n",
    "# ai = mT * alpha * yF       (3) = (2) -> (1)\n",
    "# yT = alpha * yF            (4)\n",
    "# ai = mT * yT               (5) = (4) -> (3)\n",
    "\n",
    "# When the ion does not form an ion pair or alpha = 1.0 the values of yT = yF. \n",
    "# If the value of yF is determined for a solution (e.g. Na-Mg-C1-SO4) using the\n",
    "# Pitzer equations, the ion pairing model can be used to account for strong\n",
    "# interactions between i (Cu 2+) and minor anions (CO~-):\n",
    "\n",
    "# Using the alpha determined via iteration,  we can convert yF to yT: \n",
    "\n",
    "# ****************************************************************************************************************************\n",
    "    gT_cat, gT_an = gammaTV3 (alpha_an, alpha_cat, gF_an, gF_cat)\n",
    "# ****************************************************************************************************************************\n",
    "\n",
    "    return gT_cat, gT_an, gF_cat, gF_an, gN, gmjIP, mnCatIP, gdivIP, gtrivIP, mT_cat, mT_an, mF_an, mF_cat, alpha_an, alpha_cat, mjcat_spec, mjcat_FREE, mjan_spec, mjan_FREE, mncat_spec, mncat_FREE, div_spec, div_FREE, triv_spec, triv_FREE "
   ]
  }
 ],
 "metadata": {
  "kernelspec": {
   "display_name": "Python 3",
   "language": "python",
   "name": "python3"
  },
  "language_info": {
   "codemirror_mode": {
    "name": "ipython",
    "version": 3
   },
   "file_extension": ".py",
   "mimetype": "text/x-python",
   "name": "python",
   "nbconvert_exporter": "python",
   "pygments_lexer": "ipython3",
   "version": "3.6.2"
  }
 },
 "nbformat": 4,
 "nbformat_minor": 2
}
