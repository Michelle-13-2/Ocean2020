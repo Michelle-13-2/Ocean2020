{
 "cells": [
  {
   "cell_type": "code",
   "execution_count": 1,
   "metadata": {
    "collapsed": true
   },
   "outputs": [],
   "source": [
    "from PyCO2SYS import CO2SYS\n",
    "import numpy as np"
   ]
  },
  {
   "cell_type": "code",
   "execution_count": 2,
   "metadata": {
    "scrolled": true
   },
   "outputs": [
    {
     "name": "stdout",
     "output_type": "stream",
     "text": [
      "{'TAlk': array([2400.]), 'TCO2': array([2157.08143121]), 'pHin': array([8.]), 'pCO2in': array([479.30989188]), 'fCO2in': array([477.6842711]), 'HCO3in': array([1966.08030626]), 'CO3in': array([175.5205985]), 'CO2in': array([15.48052645]), 'BAlkin': array([75.23500691]), 'OHin': array([3.81898049]), 'PAlkin': array([2.20197144]), 'SiAlkin': array([1.63275154]), 'NH3Alkin': array([0.]), 'H2SAlkin': array([0.]), 'Hfreein': array([0.00810454]), 'RFin': array([11.1027722]), 'OmegaCAin': array([4.19134542]), 'OmegaARin': array([2.72436304]), 'xCO2in': array([490.40409942]), 'pHout': array([8.]), 'pCO2out': array([479.30989188]), 'fCO2out': array([477.6842711]), 'HCO3out': array([1966.08030626]), 'CO3out': array([175.5205985]), 'CO2out': array([15.48052645]), 'BAlkout': array([75.23500691]), 'OHout': array([3.81898049]), 'PAlkout': array([2.20197144]), 'SiAlkout': array([1.63275154]), 'NH3Alkout': array([0.]), 'H2SAlkout': array([0.]), 'Hfreeout': array([0.00810454]), 'RFout': array([11.1027722]), 'OmegaCAout': array([4.19134542]), 'OmegaARout': array([2.72436304]), 'xCO2out': array([490.40409942]), 'pHinTOTAL': array([8.]), 'pHinSWS': array([7.99081918]), 'pHinFREE': array([8.09127174]), 'pHinNBS': array([8.12594118]), 'pHoutTOTAL': array([8.]), 'pHoutSWS': array([7.99081918]), 'pHoutFREE': array([8.09127174]), 'pHoutNBS': array([8.12594118]), 'TEMPIN': array([20.]), 'TEMPOUT': array([20.]), 'PRESIN': array([10.1325]), 'PRESOUT': array([10.1325]), 'SAL': array([35.]), 'PO4': array([2.]), 'SI': array([50.]), 'NH3': array([0.]), 'H2S': array([0.]), 'K0input': array([0.03240744]), 'K1input': array([1.27003453e-06]), 'K2input': array([8.9274379e-10]), 'pK1input': array([5.89618447]), 'pK2input': array([9.04927316]), 'KWinput': array([3.81898049e-14]), 'KBinput': array([2.20977218e-09]), 'KFinput': array([0.00259189]), 'KSinput': array([0.12072789]), 'KP1input': array([0.02461915]), 'KP2input': array([9.9729858e-07]), 'KP3input': array([1.24609153e-09]), 'KSiinput': array([3.37573791e-10]), 'KNH3input': array([3.8163109e-10]), 'KH2Sinput': array([2.59670299e-07]), 'K0output': array([0.03240744]), 'K1output': array([1.27003453e-06]), 'K2output': array([8.9274379e-10]), 'pK1output': array([5.89618447]), 'pK2output': array([9.04927316]), 'KWoutput': array([3.81898049e-14]), 'KBoutput': array([2.20977218e-09]), 'KFoutput': array([0.00259189]), 'KSoutput': array([0.12072789]), 'KP1output': array([0.02461915]), 'KP2output': array([9.9729858e-07]), 'KP3output': array([1.24609153e-09]), 'KSioutput': array([3.37573791e-10]), 'KNH3output': array([3.8163109e-10]), 'KH2Soutput': array([2.59670299e-07]), 'TB': array([415.7]), 'TF': array([68.32583969]), 'TS': array([28235.43413286]), 'gammaTCin': array([0.00019428]), 'betaTCin': array([0.00022936]), 'omegaTCin': array([-0.00027988]), 'gammaTAin': array([-0.00022936]), 'betaTAin': array([-0.00024637]), 'omegaTAin': array([0.00026612]), 'gammaTCout': array([0.00019428]), 'betaTCout': array([0.00022936]), 'omegaTCout': array([-0.00027988]), 'gammaTAout': array([-0.00022936]), 'betaTAout': array([-0.00024637]), 'omegaTAout': array([0.00026612]), 'isoQin': array([1.18051942]), 'isoQout': array([1.18051942]), 'isoQapprox_in': array([1.19523005]), 'isoQapprox_out': array([1.19523005]), 'psi_in': array([0.6941695]), 'psi_out': array([0.6941695]), 'TCa': array([10284.56970085]), 'SIRin': array([0.24259006]), 'SIRout': array([0.24259006]), 'PAR1': array([2400.]), 'PAR2': array([8.]), 'PengCorrection': array([0.]), 'FugFacinput': array([0.99660841]), 'FugFacoutput': array([0.99660841]), 'fHinput': array([0.73261869]), 'fHoutput': array([0.73261869]), 'TSO4': array([28235.43413286]), 'KSO4input': array([0.12072789]), 'KSO4output': array([0.12072789]), 'RGas': array([83.1451]), 'PAR1TYPE': array([1]), 'PAR2TYPE': array([3]), 'K1K2CONSTANTS': array([14]), 'KSO4CONSTANTS': array([1]), 'KSO4CONSTANT': array([1]), 'KFCONSTANT': array([1]), 'BORON': array([1]), 'pHSCALEIN': array([1]), 'buffers_mode': array(['auto'], dtype='<U4'), 'WhichR': array([1])}\n"
     ]
    }
   ],
   "source": [
    "S  = 35                         #        Salinity*: 0-40 psu, Practical Salinity Scale salinity (UNESCO, 1981)\n",
    "I  = 19.924*S/(1000-1.005*S)    #        Ionic strength*: Determined from Salinity\n",
    "Tc = 20                         #        Temperature: 0-50 degrees C\n",
    "P  = 1                          #        Pressure: Via CO2SYS, Information on pressure dependence is limited\n",
    "pH = 8                          #        pH: seawater scale \n",
    "\n",
    "# 1 decibar [dbar] = 0.0986923266716013 standard atmosphere [atm]\n",
    "\n",
    "Xpar1type = 1                   # The first parameter supplied is of type \"1\", which is \"alkalinity\"\n",
    "Xpar1     = 2400                # value of the first parameter\n",
    "Xpar2type = 3                   # The first parameter supplied is of type \"3\", which is \"pH\"\n",
    "Xpar2     = pH                  # value of the second parameter\n",
    "Xsal      = S                   # Salinity of the sample\n",
    "Xtempin   = Tc                  # Temperature at input conditions\n",
    "Xpresin   = 10.1325             # Pressure    at input conditions\n",
    "Xtempout  = 20       #np.nan    # Temperature at output conditions - doesn't matter here\n",
    "Xpresout  = 10.1325  #np.nan    # Pressure    at output conditions - doesn't matter here\n",
    "Xsil      = 50                  # Concentration of silicate  in the sample (in umol/kg)\n",
    "Xpo4      = 2                   # Concentration of phosphate in the sample (in umol/kg)\n",
    "XpHscale  = 1                   # pH scale at which the input pH is reported (\"1\" means \"Seawater Scale\")\n",
    "Xk1k2c    = 14                  # Choice of H2CO3 and HCO3- dissociation constants K1 and K2 (\"14\" means \"Millero 2010\")\n",
    "Xkso4c    = 1                   # Choice of HSO4- dissociation constants KSO4 (\"1\" means \"Dickson\")\n",
    "\n",
    "A = CO2SYS(Xpar1, Xpar2, Xpar1type, Xpar2type, Xsal, Xtempin, Xtempout, Xpresin, Xpresout, Xsil, Xpo4, XpHscale, Xk1k2c, Xkso4c)\n",
    "\n",
    "print(A)"
   ]
  },
  {
   "cell_type": "code",
   "execution_count": 3,
   "metadata": {},
   "outputs": [
    {
     "name": "stdout",
     "output_type": "stream",
     "text": [
      "{'TAlk': array([503.64795198]), 'TCO2': array([471.28760382]), 'pHin': array([7.5]), 'pCO2in': array([345.]), 'fCO2in': array([343.82990279]), 'HCO3in': array([447.51124855]), 'CO3in': array([12.63370682]), 'CO2in': array([11.14264845]), 'BAlkin': array([27.15143633]), 'OHin': array([1.20766767]), 'PAlkin': array([2.01437076]), 'SiAlkin': array([0.52811341]), 'NH3Alkin': array([0.]), 'H2SAlkin': array([0.]), 'Hfreein': array([0.0256288]), 'RFin': array([10.29132587]), 'OmegaCAin': array([0.30168669]), 'OmegaARin': array([0.19609553]), 'xCO2in': array([352.98544255]), 'pHout': array([7.5]), 'pCO2out': array([345.]), 'fCO2out': array([343.82990279]), 'HCO3out': array([447.51124855]), 'CO3out': array([12.63370682]), 'CO2out': array([11.14264845]), 'BAlkout': array([27.15143633]), 'OHout': array([1.20766767]), 'PAlkout': array([2.01437076]), 'SiAlkout': array([0.52811341]), 'NH3Alkout': array([0.]), 'H2SAlkout': array([0.]), 'Hfreeout': array([0.0256288]), 'RFout': array([10.29132587]), 'OmegaCAout': array([0.30168669]), 'OmegaARout': array([0.19609553]), 'xCO2out': array([352.98544255]), 'pHinTOTAL': array([7.5]), 'pHinSWS': array([7.49081918]), 'pHinFREE': array([7.59127174]), 'pHinNBS': array([7.62594118]), 'pHoutTOTAL': array([7.5]), 'pHoutSWS': array([7.49081918]), 'pHoutFREE': array([7.59127174]), 'pHoutNBS': array([7.62594118]), 'TEMPIN': array([20.]), 'TEMPOUT': array([20.]), 'PRESIN': array([10.1325]), 'PRESOUT': array([10.1325]), 'SAL': array([35.]), 'PO4': array([2.]), 'SI': array([50.]), 'NH3': array([0.]), 'H2S': array([0.]), 'K0input': array([0.03240744]), 'K1input': array([1.27003453e-06]), 'K2input': array([8.9274379e-10]), 'pK1input': array([5.89618447]), 'pK2input': array([9.04927316]), 'KWinput': array([3.81898049e-14]), 'KBinput': array([2.20977218e-09]), 'KFinput': array([0.00259189]), 'KSinput': array([0.12072789]), 'KP1input': array([0.02461915]), 'KP2input': array([9.9729858e-07]), 'KP3input': array([1.24609153e-09]), 'KSiinput': array([3.37573791e-10]), 'KNH3input': array([3.8163109e-10]), 'KH2Sinput': array([2.59670299e-07]), 'K0output': array([0.03240744]), 'K1output': array([1.27003453e-06]), 'K2output': array([8.9274379e-10]), 'pK1output': array([5.89618447]), 'pK2output': array([9.04927316]), 'KWoutput': array([3.81898049e-14]), 'KBoutput': array([2.20977218e-09]), 'KFoutput': array([0.00259189]), 'KSoutput': array([0.12072789]), 'KP1output': array([0.02461915]), 'KP2output': array([9.9729858e-07]), 'KP3output': array([1.24609153e-09]), 'KSioutput': array([3.37573791e-10]), 'KNH3output': array([3.8163109e-10]), 'KH2Soutput': array([2.59670299e-07]), 'TB': array([415.7]), 'TF': array([68.32583969]), 'TS': array([28235.43413286]), 'gammaTCin': array([4.57946439e-05]), 'betaTCin': array([5.08838748e-05]), 'omegaTCin': array([-5.7245677e-05]), 'gammaTAin': array([-5.08838748e-05]), 'betaTAin': array([-5.10448611e-05]), 'omegaTAin': array([5.12068692e-05]), 'gammaTCout': array([4.57946439e-05]), 'betaTCout': array([5.08838748e-05]), 'omegaTCout': array([-5.7245677e-05]), 'gammaTAout': array([-5.08838748e-05]), 'betaTAout': array([-5.10448611e-05]), 'omegaTAout': array([5.12068692e-05]), 'isoQin': array([1.11113157]), 'isoQout': array([1.11113157]), 'isoQapprox_in': array([1.05926025]), 'isoQapprox_out': array([1.05926025]), 'psi_in': array([0.79996685]), 'psi_out': array([0.79996685]), 'TCa': array([10284.56970085]), 'SIRin': array([0.01746126]), 'SIRout': array([0.01746126]), 'PAR1': array([345.]), 'PAR2': array([7.5]), 'PengCorrection': array([0.]), 'FugFacinput': array([0.99660841]), 'FugFacoutput': array([0.99660841]), 'fHinput': array([0.73261869]), 'fHoutput': array([0.73261869]), 'TSO4': array([28235.43413286]), 'KSO4input': array([0.12072789]), 'KSO4output': array([0.12072789]), 'RGas': array([83.1451]), 'PAR1TYPE': array([4]), 'PAR2TYPE': array([3]), 'K1K2CONSTANTS': array([14]), 'KSO4CONSTANTS': array([1]), 'KSO4CONSTANT': array([1]), 'KFCONSTANT': array([1]), 'BORON': array([1]), 'pHSCALEIN': array([1]), 'buffers_mode': array(['auto'], dtype='<U4'), 'WhichR': array([1])}\n"
     ]
    }
   ],
   "source": [
    "S  = 35                         #        Salinity*: 0-40 psu, Practical Salinity Scale salinity (UNESCO, 1981)\n",
    "I  = 19.924*S/(1000-1.005*S)    #        Ionic strength*: Determined from Salinity\n",
    "Tc = 20                         #        Temperature: 0-50 degrees C\n",
    "P  = 1                          #        Pressure: Via CO2SYS, Information on pressure dependence is limited\n",
    "pH = 7.5                          #        pH: seawater scale \n",
    "\n",
    "Xpar1type_1 = 4                   # The first parameter supplied is of type \"4\", which is \"Pressure CO2 input\"\n",
    "Xpar1_1     = 345                 # value of the first parameter\n",
    "Xpar2type_1 = 3                   # The first parameter supplied is of type \"3\", which is \"pH\"\n",
    "Xpar2_1     = pH                  # value of the second parameter\n",
    "Xsal_1      = S                   # Salinity of the sample\n",
    "Xtempin_1   = Tc                  # Temperature at input conditions\n",
    "Xpresin_1   = 10.1325             # Pressure    at input conditions\n",
    "Xtempout_1  = 20       #np.nan    # Temperature at output conditions - doesn't matter here\n",
    "Xpresout_1  = 10.1325  #np.nan    # Pressure    at output conditions - doesn't matter here\n",
    "Xsil_1      = 50                  # Concentration of silicate  in the sample (in umol/kg)\n",
    "Xpo4_1      = 2                   # Concentration of phosphate in the sample (in umol/kg)\n",
    "XpHscale_1  = 1                   # pH scale at which the input pH is reported (\"1\" means \"Seawater Scale\")\n",
    "Xk1k2c_1    = 14                  # Choice of H2CO3 and HCO3- dissociation constants K1 and K2 (\"14\" means \"Millero 2010\")\n",
    "Xkso4c_1    = 1                   # Choice of HSO4- dissociation constants KSO4 (\"1\" means \"Dickson\")\n",
    "\n",
    "A_1 = CO2SYS(Xpar1_1, Xpar2_1, Xpar1type_1, Xpar2type_1, Xsal_1, Xtempin_1, Xtempout_1, Xpresin_1, Xpresout_1, Xsil_1, Xpo4_1, XpHscale_1, Xk1k2c_1, Xkso4c_1)\n",
    "\n",
    "print(A_1)"
   ]
  },
  {
   "cell_type": "code",
   "execution_count": 10,
   "metadata": {
    "scrolled": true
   },
   "outputs": [
    {
     "name": "stdout",
     "output_type": "stream",
     "text": [
      "{'TAlk': array([2275.]), 'TCO2': array([1950.]), 'pHin': array([8.16266505]), 'pCO2in': array([287.93440238]), 'fCO2in': array([286.95784806]), 'HCO3in': array([1717.68477385]), 'CO3in': array([223.01565565]), 'CO2in': array([9.2995705]), 'BAlkin': array([101.10354316]), 'OHin': array([5.55408456]), 'PAlkin': array([2.29345408]), 'SiAlkin': array([2.33985594]), 'NH3Alkin': array([0.]), 'H2SAlkin': array([0.]), 'Hfreein': array([0.00557267]), 'RFin': array([9.18088475]), 'OmegaCAin': array([5.32550399]), 'OmegaARin': array([3.461563]), 'xCO2in': array([294.59899261]), 'pHout': array([8.16266505]), 'pCO2out': array([287.93440238]), 'fCO2out': array([286.95784806]), 'HCO3out': array([1717.68477385]), 'CO3out': array([223.01565565]), 'CO2out': array([9.2995705]), 'BAlkout': array([101.10354316]), 'OHout': array([5.55408456]), 'PAlkout': array([2.29345408]), 'SiAlkout': array([2.33985594]), 'NH3Alkout': array([0.]), 'H2SAlkout': array([0.]), 'Hfreeout': array([0.00557267]), 'RFout': array([9.18088475]), 'OmegaCAout': array([5.32550399]), 'OmegaARout': array([3.461563]), 'xCO2out': array([294.59899261]), 'pHinTOTAL': array([8.16266505]), 'pHinSWS': array([8.15348422]), 'pHinFREE': array([8.25393679]), 'pHinNBS': array([8.28860623]), 'pHoutTOTAL': array([8.16266505]), 'pHoutSWS': array([8.15348422]), 'pHoutFREE': array([8.25393679]), 'pHoutNBS': array([8.28860623]), 'TEMPIN': array([20.]), 'TEMPOUT': array([20.]), 'PRESIN': array([10.1325]), 'PRESOUT': array([10.1325]), 'SAL': array([35.]), 'PO4': array([2.]), 'SI': array([50.]), 'NH3': array([0.]), 'H2S': array([0.]), 'K0input': array([0.03240744]), 'K1input': array([1.27003453e-06]), 'K2input': array([8.9274379e-10]), 'pK1input': array([5.89618447]), 'pK2input': array([9.04927316]), 'KWinput': array([3.81898049e-14]), 'KBinput': array([2.20977218e-09]), 'KFinput': array([0.00259189]), 'KSinput': array([0.12072789]), 'KP1input': array([0.02461915]), 'KP2input': array([9.9729858e-07]), 'KP3input': array([1.24609153e-09]), 'KSiinput': array([3.37573791e-10]), 'KNH3input': array([3.8163109e-10]), 'KH2Sinput': array([2.59670299e-07]), 'K0output': array([0.03240744]), 'K1output': array([1.27003453e-06]), 'K2output': array([8.9274379e-10]), 'pK1output': array([5.89618447]), 'pK2output': array([9.04927316]), 'KWoutput': array([3.81898049e-14]), 'KBoutput': array([2.20977218e-09]), 'KFoutput': array([0.00259189]), 'KSoutput': array([0.12072789]), 'KP1output': array([0.02461915]), 'KP2output': array([9.9729858e-07]), 'KP3output': array([1.24609153e-09]), 'KSioutput': array([3.37573791e-10]), 'KNH3output': array([3.8163109e-10]), 'KH2Soutput': array([2.59670299e-07]), 'TB': array([415.7]), 'TF': array([68.32583969]), 'TS': array([28235.43413286]), 'gammaTCin': array([0.0002124]), 'betaTCin': array([0.00026448]), 'omegaTCin': array([-0.00035042]), 'gammaTAin': array([-0.00026448]), 'betaTAin': array([-0.00029347]), 'omegaTAin': array([0.00032959]), 'gammaTCout': array([0.0002124]), 'betaTCout': array([0.00026448]), 'omegaTCout': array([-0.00035042]), 'gammaTAout': array([-0.00026448]), 'betaTAout': array([-0.00029347]), 'omegaTAout': array([0.00032959]), 'isoQin': array([1.245231]), 'isoQout': array([1.245231]), 'isoQapprox_in': array([1.29379038]), 'isoQapprox_out': array([1.29379038]), 'psi_in': array([0.6061277]), 'psi_out': array([0.6061277]), 'TCa': array([10284.56970085]), 'SIRin': array([0.3082338]), 'SIRout': array([0.3082338]), 'PAR1': array([2275.]), 'PAR2': array([1950.]), 'PengCorrection': array([0.]), 'FugFacinput': array([0.99660841]), 'FugFacoutput': array([0.99660841]), 'fHinput': array([0.73261869]), 'fHoutput': array([0.73261869]), 'TSO4': array([28235.43413286]), 'KSO4input': array([0.12072789]), 'KSO4output': array([0.12072789]), 'RGas': array([83.1451]), 'PAR1TYPE': array([1]), 'PAR2TYPE': array([2]), 'K1K2CONSTANTS': array([14]), 'KSO4CONSTANTS': array([1]), 'KSO4CONSTANT': array([1]), 'KFCONSTANT': array([1]), 'BORON': array([1]), 'pHSCALEIN': array([1]), 'buffers_mode': array(['auto'], dtype='<U4'), 'WhichR': array([1])}\n"
     ]
    }
   ],
   "source": [
    "## ESSD Fig 3a and 4a - 10m\n",
    "\n",
    "S  = 35                           #        Salinity*: 0-40 psu, Practical Salinity Scale salinity (UNESCO, 1981)\n",
    "I  = 19.924*S/(1000-1.005*S)      #        Ionic strength*: Determined from Salinity\n",
    "Tc = 20                           #        Temperature: 0-50 degrees C\n",
    "P  = 1                            #        Pressure: Via CO2SYS, Information on pressure dependence is limited\n",
    "pH = 8                            #        pH: seawater scale \n",
    "\n",
    "Xpar1type_2 = 1                   # The first parameter supplied is of type \"1\", which is \"Total Alkalinity\"\n",
    "Xpar1_2     = 2275                # value of the first parameter\n",
    "Xpar2type_2 = 2                   # The first parameter supplied is of type \"2\", which is \"Total CO2\"\n",
    "Xpar2_2     = 1950                # value of the second parameter\n",
    "Xsal_2      = S                   # Salinity of the sample\n",
    "Xtempin_2   = Tc                  # Temperature at input conditions\n",
    "Xpresin_2   = 10.1325             # Pressure    at input conditions\n",
    "Xtempout_2  = 20       #np.nan    # Temperature at output conditions - doesn't matter here\n",
    "Xpresout_2  = 10.1325  #np.nan    # Pressure    at output conditions - doesn't matter here\n",
    "Xsil_2      = 50                  # Concentration of silicate  in the sample (in umol/kg)\n",
    "Xpo4_2      = 2                   # Concentration of phosphate in the sample (in umol/kg)\n",
    "XpHscale_2  = 1                   # pH scale at which the input pH is reported (\"1\" means \"Seawater Scale\")\n",
    "Xk1k2c_2    = 14                  # Choice of H2CO3 and HCO3- dissociation constants K1 and K2 (\"14\" means \"Millero 2010\")\n",
    "Xkso4c_2    = 1                   # Choice of HSO4- dissociation constants KSO4 (\"1\" means \"Dickson\")\n",
    "\n",
    "A_2 = CO2SYS(Xpar1_2, Xpar2_2, Xpar1type_2, Xpar2type_2, Xsal_2, Xtempin_2, Xtempout_2, Xpresin_2, Xpresout_2, Xsil_2, Xpo4_2, XpHscale_2, Xk1k2c_2, Xkso4c_2)\n",
    "\n",
    "print(A_2)"
   ]
  },
  {
   "cell_type": "code",
   "execution_count": 11,
   "metadata": {},
   "outputs": [
    {
     "name": "stdout",
     "output_type": "stream",
     "text": [
      "{'TAlk': array([2400.]), 'TCO2': array([2320.]), 'pHin': array([7.62099857]), 'pCO2in': array([1281.68292803]), 'fCO2in': array([1277.33599]), 'HCO3in': array([2196.6660337]), 'CO3in': array([81.93877124]), 'CO2in': array([41.39519506]), 'BAlkin': array([35.13758948]), 'OHin': array([1.59568078]), 'PAlkin': array([2.05216645]), 'SiAlkin': array([0.69543166]), 'NH3Alkin': array([0.]), 'H2SAlkin': array([0.]), 'Hfreein': array([0.01939678]), 'RFin': array([16.27482099]), 'OmegaCAin': array([1.95665749]), 'OmegaARin': array([1.27182201]), 'xCO2in': array([1311.3490306]), 'pHout': array([7.62099857]), 'pCO2out': array([1281.68292803]), 'fCO2out': array([1277.33599]), 'HCO3out': array([2196.6660337]), 'CO3out': array([81.93877124]), 'CO2out': array([41.39519506]), 'BAlkout': array([35.13758948]), 'OHout': array([1.59568078]), 'PAlkout': array([2.05216645]), 'SiAlkout': array([0.69543166]), 'NH3Alkout': array([0.]), 'H2SAlkout': array([0.]), 'Hfreeout': array([0.01939678]), 'RFout': array([16.27482099]), 'OmegaCAout': array([1.95665749]), 'OmegaARout': array([1.27182201]), 'xCO2out': array([1311.3490306]), 'pHinTOTAL': array([7.62099857]), 'pHinSWS': array([7.61181775]), 'pHinFREE': array([7.71227032]), 'pHinNBS': array([7.74693975]), 'pHoutTOTAL': array([7.62099857]), 'pHoutSWS': array([7.61181775]), 'pHoutFREE': array([7.71227032]), 'pHoutNBS': array([7.74693975]), 'TEMPIN': array([20.]), 'TEMPOUT': array([20.]), 'PRESIN': array([10.1325]), 'PRESOUT': array([10.1325]), 'SAL': array([35.]), 'PO4': array([2.]), 'SI': array([50.]), 'NH3': array([0.]), 'H2S': array([0.]), 'K0input': array([0.03240744]), 'K1input': array([1.27003453e-06]), 'K2input': array([8.9274379e-10]), 'pK1input': array([5.89618447]), 'pK2input': array([9.04927316]), 'KWinput': array([3.81898049e-14]), 'KBinput': array([2.20977218e-09]), 'KFinput': array([0.00259189]), 'KSinput': array([0.12072789]), 'KP1input': array([0.02461915]), 'KP2input': array([9.9729858e-07]), 'KP3input': array([1.24609153e-09]), 'KSiinput': array([3.37573791e-10]), 'KNH3input': array([3.8163109e-10]), 'KH2Sinput': array([2.59670299e-07]), 'K0output': array([0.03240744]), 'K1output': array([1.27003453e-06]), 'K2output': array([8.9274379e-10]), 'pK1output': array([5.89618447]), 'pK2output': array([9.04927316]), 'KWoutput': array([3.81898049e-14]), 'KBoutput': array([2.20977218e-09]), 'KFoutput': array([0.00259189]), 'KSoutput': array([0.12072789]), 'KP1output': array([0.02461915]), 'KP2output': array([9.9729858e-07]), 'KP3output': array([1.24609153e-09]), 'KSioutput': array([3.37573791e-10]), 'KNH3output': array([3.8163109e-10]), 'KH2Soutput': array([2.59670299e-07]), 'TB': array([415.7]), 'TF': array([68.32583969]), 'TS': array([28235.43413286]), 'gammaTCin': array([0.00014255]), 'betaTCin': array([0.00015454]), 'omegaTCin': array([-0.00016873]), 'gammaTAin': array([-0.00015454]), 'betaTAin': array([-0.00015724]), 'omegaTAin': array([0.00016004]), 'gammaTCout': array([0.00014255]), 'betaTCout': array([0.00015454]), 'omegaTCout': array([-0.00016873]), 'gammaTAout': array([-0.00015454]), 'betaTAout': array([-0.00015724]), 'omegaTAout': array([0.00016004]), 'isoQin': array([1.08408698]), 'isoQout': array([1.08408698]), 'isoQapprox_in': array([1.07852427]), 'isoQapprox_out': array([1.07852427]), 'psi_in': array([0.84487042]), 'psi_out': array([0.84487042]), 'TCa': array([10284.56970085]), 'SIRin': array([0.11324899]), 'SIRout': array([0.11324899]), 'PAR1': array([2400.]), 'PAR2': array([2320.]), 'PengCorrection': array([0.]), 'FugFacinput': array([0.99660841]), 'FugFacoutput': array([0.99660841]), 'fHinput': array([0.73261869]), 'fHoutput': array([0.73261869]), 'TSO4': array([28235.43413286]), 'KSO4input': array([0.12072789]), 'KSO4output': array([0.12072789]), 'RGas': array([83.1451]), 'PAR1TYPE': array([1]), 'PAR2TYPE': array([2]), 'K1K2CONSTANTS': array([14]), 'KSO4CONSTANTS': array([1]), 'KSO4CONSTANT': array([1]), 'KFCONSTANT': array([1]), 'BORON': array([1]), 'pHSCALEIN': array([1]), 'buffers_mode': array(['auto'], dtype='<U4'), 'WhichR': array([1])}\n"
     ]
    }
   ],
   "source": [
    "## ESSD Fig 3b and 4b - 3000m\n",
    "\n",
    "S  = 35                           #        Salinity*: 0-40 psu, Practical Salinity Scale salinity (UNESCO, 1981)\n",
    "I  = 19.924*S/(1000-1.005*S)      #        Ionic strength*: Determined from Salinity\n",
    "Tc = 20                           #        Temperature: 0-50 degrees C\n",
    "P  = 1                            #        Pressure: Via CO2SYS, Information on pressure dependence is limited\n",
    "pH = 7.5                          #        pH: seawater scale \n",
    "\n",
    "Xpar1type_3 = 1                   # The first parameter supplied is of type \"1\", which is \"Total Alkalinity\"\n",
    "Xpar1_3     = 2400                # value of the first parameter\n",
    "Xpar2type_3 = 2                   # The first parameter supplied is of type \"2\", which is \"Total CO2\"\n",
    "Xpar2_3     = 2320                # value of the second parameter\n",
    "Xsal_3      = S                   # Salinity of the sample\n",
    "Xtempin_3   = Tc                  # Temperature at input conditions\n",
    "Xpresin_3   = 10.1325             # Pressure    at input conditions\n",
    "Xtempout_3  = 20       #np.nan    # Temperature at output conditions - doesn't matter here\n",
    "Xpresout_3  = 10.1325  #np.nan    # Pressure    at output conditions - doesn't matter here\n",
    "Xsil_3      = 50                  # Concentration of silicate  in the sample (in umol/kg)\n",
    "Xpo4_3      = 2                   # Concentration of phosphate in the sample (in umol/kg)\n",
    "XpHscale_3  = 1                   # pH scale at which the input pH is reported (\"1\" means \"Seawater Scale\")\n",
    "Xk1k2c_3    = 14                  # Choice of H2CO3 and HCO3- dissociation constants K1 and K2 (\"14\" means \"Millero 2010\")\n",
    "Xkso4c_3    = 1                   # Choice of HSO4- dissociation constants KSO4 (\"1\" means \"Dickson\")\n",
    "\n",
    "A_3 = CO2SYS(Xpar1_3, Xpar2_3, Xpar1type_3, Xpar2type_3, Xsal_3, Xtempin_3, Xtempout_3, Xpresin_3, Xpresout_3, Xsil_3, Xpo4_3, XpHscale_3, Xk1k2c_3, Xkso4c_3)\n",
    "\n",
    "print(A_3)"
   ]
  },
  {
   "cell_type": "code",
   "execution_count": 18,
   "metadata": {},
   "outputs": [
    {
     "name": "stdout",
     "output_type": "stream",
     "text": [
      "1940.7004295000002 : TCO2 = 1950\n",
      "2278.6048049399997 : TCO2 = 2320\n",
      "\n",
      "CO3 + HCO3 roughly equal to TCO2\n"
     ]
    }
   ],
   "source": [
    "## ESSD Fig 3a and 4a - 10m\n",
    "\n",
    "# TAlk    - 2275          umol/kg\n",
    "# TCO2    - 1950          umol/kg\n",
    "# pH      - 8.16266505\n",
    "# CO3out  - 223.01565565  umol/kg\n",
    "# HCO3out - 1717.68477385 umol/kg\n",
    "\n",
    "## ESSD Fig 3b and 4b - 3000m\n",
    "\n",
    "# TAlk    - 2400          umol/kg\n",
    "# TCO2    - 2320          umol/kg\n",
    "# pH      - 7.62099857\n",
    "# CO3out  - 81.93877124   umol/kg\n",
    "# HCO3out - 2196.6660337  umol/kg\n",
    "\n",
    "Tot_10m   = 1717.68477385 + 223.01565565\n",
    "Tot_3000m = 2196.6660337 + 81.93877124\n",
    "print(Tot_10m, ': TCO2 = 1950')\n",
    "print(Tot_3000m, ': TCO2 = 2320')\n",
    "print()\n",
    "print('CO3 + HCO3 roughly equal to TCO2')"
   ]
  },
  {
   "cell_type": "code",
   "execution_count": 4,
   "metadata": {
    "collapsed": true
   },
   "outputs": [],
   "source": [
    "### Output definitions\n",
    "\n",
    "# TAlk           - Total alkalinity (μmol/kg)\n",
    "# TCO2           - Total CO2 (μmol/kg)\n",
    "# pHin           - Input pH ()\n",
    "# pCO2in         - (μatm)\n",
    "# fCO2in         - Fugacity of CO2 Input (μatm)\n",
    "# HCO3in         - Input HCO3 (μmol/kg)\n",
    "# CO3in          - Input CO3  (μmol/kg)\n",
    "# CO2in          - Input CO2  (μmol/kg)\n",
    "# BAlkin         - (μmol/kg)\n",
    "# OHin           - Input OH   (μmol/kg)\n",
    "# PAlkin         - Input P contribution to alkalinity       (μmol/kg)\n",
    "# SiAlkin        - Input Si contribution to alkalinity      (μmol/kg)\n",
    "# NH3Alkin       - Input NH3 contribution to alkalinity     (μmol/kg)\n",
    "# H2SAlkin       - Input H2S contribution to alkalinity     (μmol/kg)\n",
    "# Hfreein        - Input H on total scale                   (μmol/kg)\n",
    "# RFin           - Revelle Factor input                     ()\n",
    "# OmegaCAin      - Input solubility ratio for calcite       ()\n",
    "# OmegaARin      - Input solubility ratio for aragonite     ()    \n",
    "# xCO2in         - Input Dry CO2                            (ppm)\n",
    "# pHout          - Output pH                                ()\n",
    "# pCO2out        - (μatm)\n",
    "# fCO2out        - Fugacity of CO2 Output                   (μatm)\n",
    "# HCO3out        - Output HCO3                              (μmol/kg)\n",
    "# CO3out         - Output CO3                               (μmol/kg)\n",
    "# CO2out         - Output CO2                               (μmol/kg)\n",
    "# BAlkout        - Output Borate contribution to alkalinity (μmol/kg)\n",
    "# OHout          - Output OH                                (μmol/kg)\n",
    "# PAlkout        - Output P contribution to alkalinity      (μmol/kg)\n",
    "# SiAlkout       - Output Si contribution to alkalinity     (μmol/kg)\n",
    "# NH3Alkout      - Output NH3 contribution to alkalinity    (μmol/kg)\n",
    "# H2SAlkout      - Output H2S contribution to alkalinity    (μmol/kg)\n",
    "# Hfreeout       - Output H on total scale                  (μmol/kg)\n",
    "# RFout          - Revelle Factor output                    ()\n",
    "# OmegaCAout     - Output solubility ratio for calcite      ()\n",
    "# OmegaARout     - Output solubulity ratio for aragonite    ()\n",
    "# xCO2out        - Output Dry CO2                           (ppm)\n",
    "# pHinTOTAL      - Total pH Input                           ()\n",
    "# pHinSWS        - Seawater Scale pH Input                  ()\n",
    "# pHinFREE       - ()\n",
    "# pHinNBS        - ()\n",
    "# pHoutTOTAL     - Total pH Output                          ()\n",
    "# pHoutSWS       - Seawater Scale pH Output                 ()\n",
    "# pHoutFREE      - ()\n",
    "# pHoutNBS       - ()\n",
    "# TEMPIN         - Input temperature                        (deg C)\n",
    "# TEMPOUT        - Output temperature                       (deg C)\n",
    "# PRESIN         - Input pressure                           (dbar or m)\n",
    "# PRESOUT        - Output pressure                          (dbar or m)\n",
    "# SAL            - Salinity                                 (PSU)\n",
    "# PO4            - Total PO4                                (μmol/kg)\n",
    "# SI             - Total Si                                 (μmol/kg)\n",
    "# NH3            - Total NH3                                (μmol/kg)\n",
    "# H2S            - Total H2S                                (μmol/kg)\n",
    "# K0input        - Henry's constant for CO2 solubility      (mol/kg)\n",
    "# K1input        - Carbonic acid dissociation constant      (mol/kg)\n",
    "# K2input        - Carbonic acid dissociation constant      (mol/kg)\n",
    "# pK1input       - ()\n",
    "# pK2input       - ()\n",
    "# KWinput        - Water dissociation constant              ()\n",
    "# KBinput        - Boric acid dissociation constant         ()\n",
    "# KFinput        - HF dissociation constant                 ()\n",
    "# KSinput        - ()  # to be replaced by \"KSO4input\"\n",
    "# KP1input       - P dissociation constant                  (mol/kg)\n",
    "# KP2input       - P dissociation constant                  (mol/kg)\n",
    "# KP3input       - P dissociation constant                  (mol/kg)\n",
    "# KSiinput       - Si dissociation constant                 (mol/kg)\n",
    "# KNH3input      - Ammonium association constant            (mol/kg)\n",
    "# KH2Sinput      - Hydrogen sulfide dissociation constant   (mol/kg)\n",
    "# K0output       - Henry's constant for CO2 solubility      (mol/kg)\n",
    "# K1output       - Carbonic acid dissociation constant      (mol/kg)\n",
    "# K2output       - Carbonic acid dissociation constant      (mol/kg)\n",
    "# pK1output      - ()\n",
    "# pK2output      - ()\n",
    "# KWoutput       - Water dissociation constant              ()\n",
    "# KBoutput       - Boric acid dissociation constant         ()\n",
    "# KFoutput       - HF dissociation constant                 ()\n",
    "# KSoutput       - ()  # to be replaced by \"KSO4output\"\n",
    "# KP1output      - P dissociation constant                  (mol/kg)\n",
    "# KP2output      - P dissociation constant                  (mol/kg)\n",
    "# KP3output      - P dissociation constant                  (mol/kg)\n",
    "# KSioutput      - Si dissociation constant                 (mol/kg)\n",
    "# KNH3output     - Ammonium association constant            (mol/kg)\n",
    "# KH2Soutput     - Hydrogen sulfide dissociation constant   (mol/kg)\n",
    "# TB             - Total borate                             (μmol/kg)\n",
    "# TF             - Total flouride                           (μmol/kg)\n",
    "# TS             - Total SO4                                (μmol/kg) == TSO4\n",
    "\n",
    "## Added in v1.2.0:\n",
    "# gammaTCin      -\n",
    "# betaTCin       -\n",
    "# omegaTCin      -\n",
    "# gammaTAin      -\n",
    "# betaTAin       -\n",
    "# omegaTAin      -\n",
    "# gammaTCout     -\n",
    "# betaTCout      -\n",
    "# omegaTCout     -\n",
    "# gammaTAout     -\n",
    "# betaTAout      -\n",
    "# omegaTAout     -\n",
    "# isoQin         - Isocapnic Quotient Input\n",
    "# isoQout        - Isocapnic Quotient Output\n",
    "# isoQapprox_in  -\n",
    "# isoQapprox_out -\n",
    "# psi_in         -\n",
    "# psi_out        -\n",
    "\n",
    "## Added in v1.3.0:\n",
    "# TCa            - Total Ca       (μmol/kg)\n",
    "\n",
    "# Added in v1.4.0:\n",
    "# SIRin          -\n",
    "# SIRout         -\n",
    "# PAR1           -\n",
    "# PAR2           -\n",
    "# PengCorrection -\n",
    "# FugFacinput    - Input Fugacity Constant  (assumes P is at 1 atm)\n",
    "# FugFacoutput   - Output Fugacity Constant (assumes P is at 1 atm)\n",
    "# fHinput        -\n",
    "# fHoutput       -\n",
    "# TSO4           - Total SO4                (μmol/kg) == TS\n",
    "# KSO4input      -   # will eventually replace \"KSinput\"\n",
    "# KSO4output     -   # will eventually replace \"KSoutput\"\n",
    "\n",
    "## Added in v1.4.1:\n",
    "# RGas           - Gas costant R  (ml / (bar * K * mol))\n",
    "# PAR1TYPE       - \n",
    "# PAR2TYPE       -\n",
    "# K1K2CONSTANTS  - \n",
    "# KSO4CONSTANTS  -\n",
    "# KSO4CONSTANT   -\n",
    "# KFCONSTANT     -\n",
    "# BORON          -\n",
    "# pHSCALEIN      -\n",
    "# buffers_mode   - \n",
    "# WhichR         - 1 (input integer value to conduct the calculation for RGas)"
   ]
  },
  {
   "cell_type": "code",
   "execution_count": 5,
   "metadata": {
    "collapsed": true
   },
   "outputs": [],
   "source": [
    "##Parameter info\n",
    "# - generate all combinations of marine carbonate system parameters\n",
    "#\n",
    "#defpars     = ([Total Alkalinity, Total CO2, Input pH, Pressure CO2 input, Fugacity of CO2 Input, Input CO3, Input HCO3, Input CO2])\n",
    "#defpartypes = ([               1,         2,        3,                  4,                     5,         6,          7,         8])\n",
    "#"
   ]
  },
  {
   "cell_type": "code",
   "execution_count": null,
   "metadata": {
    "collapsed": true
   },
   "outputs": [],
   "source": []
  }
 ],
 "metadata": {
  "kernelspec": {
   "display_name": "Python 3",
   "language": "python",
   "name": "python3"
  },
  "language_info": {
   "codemirror_mode": {
    "name": "ipython",
    "version": 3
   },
   "file_extension": ".py",
   "mimetype": "text/x-python",
   "name": "python",
   "nbconvert_exporter": "python",
   "pygments_lexer": "ipython3",
   "version": "3.6.2"
  }
 },
 "nbformat": 4,
 "nbformat_minor": 2
}
